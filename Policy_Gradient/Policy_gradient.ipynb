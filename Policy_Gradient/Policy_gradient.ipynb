{
 "cells": [
  {
   "cell_type": "code",
   "execution_count": 19,
   "id": "74804604",
   "metadata": {},
   "outputs": [],
   "source": [
    "import gym\n",
    "import numpy as np\n",
    "import torch\n",
    "import torch.nn as nn\n",
    "from torch.nn import functional as F\n"
   ]
  },
  {
   "cell_type": "code",
   "execution_count": 20,
   "id": "ef288c1b",
   "metadata": {},
   "outputs": [],
   "source": [
    "class neural_network(nn.Module):\n",
    "    def __init__(self, state_space,\n",
    "                 action_space):\n",
    "        super(neural_network, self).__init__()\n",
    "\n",
    "        \n",
    "        self.Linear1 = nn.Linear(state_space, 64)\n",
    "        self.Linear2 = nn.Linear(64, 64)\n",
    "        self.Linear3 = nn.Linear(64, action_space)\n",
    "        self.softmax = nn.Softmax(dim=0)\n",
    "\n",
    "    def forward(self, x):\n",
    "        \n",
    "        x = F.relu(self.Linear1(x))\n",
    "        x = F.relu(self.Linear2(x))\n",
    "        x=self.Linear3(x)\n",
    "        x = self.softmax(x)\n",
    "        return x"
   ]
  },
  {
   "cell_type": "code",
   "execution_count": 21,
   "id": "12ee0fa9",
   "metadata": {},
   "outputs": [],
   "source": [
    "def selct_action(state,Q_net):\n",
    "    action_prob=Q_net(state)\n",
    "    action = np.random.choice(np.array([0,1]), p=action_prob.data.numpy())\n",
    "    \n",
    "    return action"
   ]
  },
  {
   "cell_type": "code",
   "execution_count": 22,
   "id": "42aadfed",
   "metadata": {},
   "outputs": [],
   "source": [
    "def generate_trajectory(env,neural_net, n_steps=1000):\n",
    "        \"\"\"\n",
    "        Play a session and genrate a trajectory\n",
    "        returns: arrays of states, actions, rewards\n",
    "        \"\"\"\n",
    "        states, actions, rewards = [], [], []\n",
    "        # initialize the environment\n",
    "        s1 = env.reset()[0]\n",
    "        s=torch.FloatTensor(s1)\n",
    "        #generate n_steps of trajectory:\n",
    "        for t in range(n_steps):\n",
    "            act=selct_action(s,neural_net)\n",
    "            next_state1, r, done, info,_= env.step(act)\n",
    "            next_state=torch.FloatTensor(next_state1)\n",
    "            #update arrays\n",
    "            states.append(s1)\n",
    "            actions.append(act)\n",
    "            rewards.append(r)\n",
    "\n",
    "            s = next_state\n",
    "            s1= next_state1\n",
    "            if done:\n",
    "                break\n",
    "        return states, actions, rewards"
   ]
  },
  {
   "cell_type": "code",
   "execution_count": 23,
   "id": "f822034f",
   "metadata": {},
   "outputs": [],
   "source": [
    "def get_rewards_to_go(rewards, gamma=0.99):\n",
    "        T = len(rewards) # total number of individual rewards\n",
    "        # empty array to return the rewards to go\n",
    "        rewards_to_go = [0]*T\n",
    "        rewards_to_go[T-1] = rewards[T-1]\n",
    "        for i in range(T-2, -1, -1): #go from T-2 to 0\n",
    "            rewards_to_go[i] = gamma * rewards_to_go[i+1] + rewards[i]\n",
    "        return rewards_to_go"
   ]
  },
  {
   "cell_type": "code",
   "execution_count": 24,
   "id": "5df3309c",
   "metadata": {},
   "outputs": [],
   "source": [
    "def log_ten(states,num_action):\n",
    "    states = torch.FloatTensor(states)\n",
    "    T=torch.zeros(states.shape[0],num_action)\n",
    "    for i,s in enumerate(states):\n",
    "        T[i]=Q(s)\n",
    "    return T"
   ]
  },
  {
   "cell_type": "code",
   "execution_count": 25,
   "id": "44a72621",
   "metadata": {},
   "outputs": [],
   "source": [
    "\n",
    "def train_one_episode(states,num_action,actions, rewards, gamma=0.99, entropy_coef=1e-2):\n",
    "    rewards_to_go = get_rewards_to_go(rewards, gamma)\n",
    "    actions=torch.LongTensor(actions)\n",
    "    rewards_to_go = torch.FloatTensor(rewards_to_go)\n",
    "    # get log action probabilities from states\n",
    "    Soft_max_actions=log_ten(states,num_action)\n",
    "    log_probs = torch.log(Soft_max_actions)\n",
    "    log_probs_for_actions = log_probs[range(len(actions)), actions]\n",
    "    \n",
    "    J = torch.mean(log_probs_for_actions*rewards_to_go)\n",
    "    H = -(Soft_max_actions*log_probs).sum(-1).mean()\n",
    "    \n",
    "    loss = -(J+entropy_coef*H)\n",
    "    optimizer.zero_grad()\n",
    "    loss.backward()\n",
    "    optimizer.step()\n",
    "    return np.sum(rewards)"
   ]
  },
  {
   "cell_type": "code",
   "execution_count": 26,
   "id": "a46e714c",
   "metadata": {},
   "outputs": [
    {
     "name": "stdout",
     "output_type": "stream",
     "text": [
      "mean_reward: 19.727272727272727, iteration: 100\n",
      "mean_reward: 28.707070707070706, iteration: 200\n",
      "mean_reward: 43.81818181818182, iteration: 300\n",
      "mean_reward: 84.06060606060606, iteration: 400\n",
      "mean_reward: 144.27272727272728, iteration: 500\n",
      "mean_reward: 362.90909090909093, iteration: 600\n",
      "mean_reward: 137.08080808080808, iteration: 700\n",
      "mean_reward: 254.92929292929293, iteration: 800\n",
      "mean_reward: 137.07070707070707, iteration: 900\n",
      "mean_reward: 527.030303030303, iteration: 1000\n",
      "mean_reward: 140.02020202020202, iteration: 1100\n",
      "mean_reward: 535.8888888888889, iteration: 1200\n",
      "mean_reward: 563.5959595959596, iteration: 1300\n",
      "mean_reward: 83.31313131313131, iteration: 1400\n",
      "mean_reward: 60.19191919191919, iteration: 1500\n",
      "mean_reward: 86.81818181818181, iteration: 1600\n",
      "mean_reward: 61.7979797979798, iteration: 1700\n",
      "mean_reward: 265.16161616161617, iteration: 1800\n",
      "mean_reward: 687.929292929293, iteration: 1900\n",
      "mean_reward: 653.7272727272727, iteration: 2000\n",
      "mean_reward: 103.60606060606061, iteration: 2100\n",
      "mean_reward: 146.65656565656565, iteration: 2200\n",
      "mean_reward: 848.3434343434343, iteration: 2300\n",
      "mean_reward: 387.3333333333333, iteration: 2400\n",
      "mean_reward: 308.93939393939394, iteration: 2500\n",
      "mean_reward: 465.55555555555554, iteration: 2600\n",
      "mean_reward: 730.3636363636364, iteration: 2700\n",
      "mean_reward: 987.7575757575758, iteration: 2800\n",
      "mean_reward: 1000.0, iteration: 2900\n",
      "mean_reward: 1000.0, iteration: 3000\n",
      "mean_reward: 820.3030303030303, iteration: 3100\n",
      "mean_reward: 807.6363636363636, iteration: 3200\n",
      "mean_reward: 70.58585858585859, iteration: 3300\n",
      "mean_reward: 108.8080808080808, iteration: 3400\n",
      "mean_reward: 479.3939393939394, iteration: 3500\n",
      "mean_reward: 1000.0, iteration: 3600\n",
      "mean_reward: 1000.0, iteration: 3700\n",
      "mean_reward: 649.030303030303, iteration: 3800\n",
      "mean_reward: 1000.0, iteration: 3900\n",
      "mean_reward: 1000.0, iteration: 4000\n",
      "mean_reward: 1000.0, iteration: 4100\n",
      "mean_reward: 987.979797979798, iteration: 4200\n",
      "mean_reward: 967.5353535353536, iteration: 4300\n",
      "mean_reward: 920.939393939394, iteration: 4400\n",
      "mean_reward: 575.939393939394, iteration: 4500\n",
      "mean_reward: 213.0909090909091, iteration: 4600\n",
      "mean_reward: 192.87878787878788, iteration: 4700\n",
      "mean_reward: 224.17171717171718, iteration: 4800\n",
      "mean_reward: 459.57575757575756, iteration: 4900\n",
      "mean_reward: 253.57575757575756, iteration: 5000\n",
      "mean_reward: 148.41414141414143, iteration: 5100\n",
      "mean_reward: 119.97979797979798, iteration: 5200\n",
      "mean_reward: 137.97979797979798, iteration: 5300\n",
      "mean_reward: 134.86868686868686, iteration: 5400\n",
      "mean_reward: 168.45454545454547, iteration: 5500\n",
      "mean_reward: 221.56565656565655, iteration: 5600\n",
      "mean_reward: 245.02020202020202, iteration: 5700\n",
      "mean_reward: 114.8080808080808, iteration: 5800\n",
      "mean_reward: 111.6969696969697, iteration: 5900\n",
      "mean_reward: 128.55555555555554, iteration: 6000\n",
      "mean_reward: 422.5353535353535, iteration: 6100\n",
      "mean_reward: 399.80808080808083, iteration: 6200\n",
      "mean_reward: 139.63636363636363, iteration: 6300\n",
      "mean_reward: 131.53535353535352, iteration: 6400\n",
      "mean_reward: 121.57575757575758, iteration: 6500\n",
      "mean_reward: 135.6969696969697, iteration: 6600\n",
      "mean_reward: 317.6161616161616, iteration: 6700\n",
      "mean_reward: 128.8080808080808, iteration: 6800\n",
      "mean_reward: 102.07070707070707, iteration: 6900\n",
      "mean_reward: 162.34343434343435, iteration: 7000\n",
      "mean_reward: 122.63636363636364, iteration: 7100\n",
      "mean_reward: 107.63636363636364, iteration: 7200\n",
      "mean_reward: 710.5252525252525, iteration: 7300\n",
      "mean_reward: 416.17171717171715, iteration: 7400\n",
      "mean_reward: 502.90909090909093, iteration: 7500\n",
      "mean_reward: 333.42424242424244, iteration: 7600\n",
      "mean_reward: 165.3030303030303, iteration: 7700\n",
      "mean_reward: 119.84848484848484, iteration: 7800\n",
      "mean_reward: 111.73737373737374, iteration: 7900\n",
      "mean_reward: 134.33333333333334, iteration: 8000\n",
      "mean_reward: 144.989898989899, iteration: 8100\n",
      "mean_reward: 136.37373737373738, iteration: 8200\n",
      "mean_reward: 252.5050505050505, iteration: 8300\n",
      "mean_reward: 149.22222222222223, iteration: 8400\n",
      "mean_reward: 378.65656565656565, iteration: 8500\n",
      "mean_reward: 751.1717171717172, iteration: 8600\n",
      "mean_reward: 128.85858585858585, iteration: 8700\n",
      "mean_reward: 205.56565656565655, iteration: 8800\n",
      "mean_reward: 362.010101010101, iteration: 8900\n",
      "mean_reward: 987.020202020202, iteration: 9000\n",
      "mean_reward: 557.060606060606, iteration: 9100\n",
      "mean_reward: 329.3636363636364, iteration: 9200\n",
      "mean_reward: 374.4040404040404, iteration: 9300\n",
      "mean_reward: 352.17171717171715, iteration: 9400\n",
      "mean_reward: 280.82828282828285, iteration: 9500\n",
      "mean_reward: 285.5353535353535, iteration: 9600\n",
      "mean_reward: 374.969696969697, iteration: 9700\n",
      "mean_reward: 429.80808080808083, iteration: 9800\n",
      "mean_reward: 766.1919191919192, iteration: 9900\n"
     ]
    }
   ],
   "source": [
    "env=gym.make(\"CartPole-v1\")\n",
    "num_states=env.observation_space.shape[0]\n",
    "num_actions=env.action_space.n\n",
    "Q = neural_network(state_space=num_states, \n",
    "             action_space=num_actions)\n",
    "optimizer = torch.optim.Adam(Q.parameters(), lr=1e-3)\n",
    "\n",
    "total_rewards = []\n",
    "mean_reward_l=[]\n",
    "for i in range(10000):\n",
    "    states, actions, rewards = generate_trajectory(env,Q)\n",
    "    reward = train_one_episode(states,num_actions,actions, rewards)\n",
    "    total_rewards.append(reward)\n",
    "    if i != 0 and i % 100 == 0:\n",
    "        mean_reward = np.mean(total_rewards[-100:-1])\n",
    "        mean_reward_l.append(mean_reward )\n",
    "        print(\"mean_reward: {}, iteration: {}\".format(mean_reward, i))\n",
    "        \n",
    "env.close()"
   ]
  },
  {
   "cell_type": "code",
   "execution_count": 29,
   "id": "6e10b6c1",
   "metadata": {},
   "outputs": [
    {
     "data": {
      "text/plain": [
       "[<matplotlib.lines.Line2D at 0x7febfb626e20>]"
      ]
     },
     "execution_count": 29,
     "metadata": {},
     "output_type": "execute_result"
    },
    {
     "data": {
      "image/png": "[encoded data removed]",
      "text/plain": [
       "<Figure size 640x480 with 1 Axes>"
      ]
     },
     "metadata": {},
     "output_type": "display_data"
    }
   ],
   "source": [
    "import matplotlib.pyplot as plt\n",
    "plt.plot(total_rewards)\n",
    "plt.plot(mean_reward_l)"
   ]
  },
  {
   "cell_type": "code",
   "execution_count": 32,
   "id": "ee3235ab",
   "metadata": {},
   "outputs": [],
   "source": [
    "done=False\n",
    "env=gym.make(\"CartPole-v1\", render_mode=\"human\")\n",
    "t=0\n",
    "while not done:\n",
    "    obs=env.reset()[0]\n",
    "    \n",
    "    obs=torch.tensor(obs)\n",
    "    opt_policy = selct_action(obs,Q)\n",
    "    next_state, reward, done, _,_ = env.step(opt_policy)\n",
    "    env.render()\n",
    "    obs=next_state\n",
    "    t=t+1\n",
    "    if t>=250:\n",
    "        break\n",
    "env.close()  "
   ]
  },
  {
   "cell_type": "code",
   "execution_count": null,
   "id": "fc21fbdd",
   "metadata": {},
   "outputs": [],
   "source": []
  }
 ],
 "metadata": {
  "kernelspec": {
   "display_name": "Python 3 (ipykernel)",
   "language": "python",
   "name": "python3"
  },
  "language_info": {
   "codemirror_mode": {
    "name": "ipython",
    "version": 3
   },
   "file_extension": ".py",
   "mimetype": "text/x-python",
   "name": "python",
   "nbconvert_exporter": "python",
   "pygments_lexer": "ipython3",
   "version": "3.8.10"
  }
 },
 "nbformat": 4,
 "nbformat_minor": 5
}
