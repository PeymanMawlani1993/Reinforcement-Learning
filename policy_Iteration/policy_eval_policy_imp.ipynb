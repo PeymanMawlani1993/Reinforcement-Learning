{
 "cells": [
  {
   "cell_type": "code",
   "execution_count": 136,
   "id": "5bd7b873",
   "metadata": {},
   "outputs": [],
   "source": [
    "import numpy as np\n",
    "import sys\n",
    "from gym.envs.toy_text import discrete\n",
    "\n",
    "from contextlib import closing\n",
    "from io import StringIO"
   ]
  },
  {
   "cell_type": "code",
   "execution_count": 137,
   "id": "bf2ced22",
   "metadata": {},
   "outputs": [],
   "source": [
    "UP = 0\n",
    "RIGHT = 1\n",
    "DOWN = 2\n",
    "LEFT = 3\n",
    "\n",
    "class GRID_WORLD(discrete.DiscreteEnv):\n",
    "    def __init__(self):\n",
    "        metadata = {'render.modes': ['human', 'ansi']}\n",
    "        self.number_actions=4\n",
    "        self.shape=(4,4)\n",
    "        self.number_states=np.prod(self.shape)\n",
    "        P = {}\n",
    "        for s in range(self.number_states):\n",
    "          position = np.unravel_index(s, self.shape)\n",
    "          P[s] = {a: [] for a in range( self.number_actions)}\n",
    "          P[s][UP] = self.tarnsition_p(position, [-1, 0])\n",
    "          P[s][RIGHT] = self.tarnsition_p(position, [0, 1])\n",
    "          P[s][DOWN] = self.tarnsition_p(position, [1, 0])\n",
    "          P[s][LEFT] = self.tarnsition_p(position, [0, -1])\n",
    "        self.P = P\n",
    "        isd = np.ones(self.number_states) /self.number_states\n",
    "        super(GRID_WORLD, self).__init__(self.number_states, self.number_actions, P,isd)\n",
    "        \n",
    "    def tarnsition_p(self,pose_array,action):\n",
    "        sing_state=np.ravel_multi_index(tuple(pose_array),self.shape)\n",
    "        if sing_state==0 or sing_state==self.number_states-1:\n",
    "            return [(1.0, sing_state, 0, True)]\n",
    "        else:\n",
    "            new_pose=np.array(pose_array)+np.array(action)\n",
    "            new_pose=self.limitations(new_pose).astype(int)\n",
    "            new_sing_state=np.ravel_multi_index(tuple(new_pose),self.shape)\n",
    "            return [(1.0, new_sing_state, -1, False)]  \n",
    "        \n",
    "    def limitations(self,array):\n",
    "        array[0] = min(array[0], self.shape[0] - 1)\n",
    "        array[0] = max(array[0], 0)\n",
    "        array[1] = min(array[1], self.shape[1] - 1)\n",
    "        array[1] = max(array[1], 0)\n",
    "        return array\n",
    "    \n",
    "    def render(self, mode='human'):\n",
    "        outfile = StringIO() if mode == 'ansi' else sys.stdout\n",
    "        for s in range(self.number_states):\n",
    "          position = np.unravel_index(s, self.shape)\n",
    "          if s == self.number_states:\n",
    "            output = \" x \"\n",
    "          elif s == 0 or s == self.number_states - 1:\n",
    "            output = \" T \"\n",
    "          else:\n",
    "            output = \" o \"\n",
    "          if position[1] == 0:\n",
    "            output = output.lstrip()\n",
    "          if position[1] == self.shape[1] - 1:\n",
    "            output = output.rstrip()\n",
    "            output += '\\n'\n",
    "          outfile.write(output)\n",
    "        outfile.write('\\n')\n",
    "        if mode != 'human':\n",
    "          with closing(outfile):\n",
    "            return outfile.getvalue()"
   ]
  },
  {
   "cell_type": "code",
   "execution_count": 242,
   "id": "d4385857",
   "metadata": {},
   "outputs": [],
   "source": [
    "def policy_evaluation(policy,env,discount_factor=1.0, theta=0.00001):\n",
    "    V=np.zeros(env.number_states)\n",
    "    V_up=np.copy(V)\n",
    "    while True:\n",
    "        d=0\n",
    "        for s in range(env.number_states):\n",
    "            v=0\n",
    "            for a, pi in enumerate(policy[s]):\n",
    "                for prob,updated_state,reward,done in env.P[s][a]:\n",
    "                    v += pi * prob *(reward + discount_factor * V[updated_state])\n",
    "            V_up[s] = v\n",
    "            d = max(d, np.abs(V_up[s] - V[s]))\n",
    "                    \n",
    "        V = np.copy(V_up)\n",
    "        if d < theta:\n",
    "            break\n",
    "    return V\n",
    "                    \n",
    "                \n",
    "            "
   ]
  },
  {
   "cell_type": "code",
   "execution_count": 243,
   "id": "8a67e07a",
   "metadata": {},
   "outputs": [],
   "source": [
    "def q_greedify_policy(env, V, pi, s, gamma):\n",
    "    G = np.zeros(env.number_actions, dtype=float)\n",
    "    for a in range(env.number_actions):\n",
    "        \n",
    "        for prob, next_state, reward, done in env.P[s][a]:\n",
    "            G[a] += prob * (reward + gamma * V[next_state])\n",
    "            \n",
    "    greed_actions = np.argwhere(G == np.amax(G))\n",
    "    for a in range(env.number_actions):\n",
    "        if a in greed_actions:\n",
    "            pi[s, a] = 1 / len(greed_actions)\n",
    "        else:\n",
    "            pi[s, a] = 0\n",
    "  \n",
    "\n",
    "        "
   ]
  },
  {
   "cell_type": "code",
   "execution_count": 244,
   "id": "ba19d3b3",
   "metadata": {},
   "outputs": [],
   "source": [
    "def improve_policy(env, V, pi, gamma):\n",
    "    policy_stable = True\n",
    "    for s in range(env.number_states):\n",
    "        old = pi[s].copy()\n",
    "        q_greedify_policy(env, V, pi, s, gamma)\n",
    "        if not np.array_equal(pi[s], old):\n",
    "            policy_stable = False\n",
    "    return pi, policy_stable\n"
   ]
  },
  {
   "cell_type": "code",
   "execution_count": 245,
   "id": "2e7744de",
   "metadata": {},
   "outputs": [],
   "source": [
    "def policy_iteration(env, gamma, theta):\n",
    "    V = np.zeros(env.number_states)\n",
    "    pi = np.ones([env.number_states, env.number_actions])/ env.number_actions\n",
    "    policy_stable = False\n",
    "    while not policy_stable:\n",
    "        V =policy_evaluation(pi,env,gamma, theta)\n",
    "        pi, policy_stable = improve_policy(env, V, pi, gamma)\n",
    "    return V, pi\n",
    "            "
   ]
  },
  {
   "cell_type": "code",
   "execution_count": 256,
   "id": "820c3dc5",
   "metadata": {},
   "outputs": [
    {
     "name": "stdout",
     "output_type": "stream",
     "text": [
      "[[ 0. -1. -2. -3.]\n",
      " [-1. -2. -3. -2.]\n",
      " [-2. -3. -2. -1.]\n",
      " [-3. -2. -1.  0.]]\n",
      "[[0.25 0.25 0.25 0.25]\n",
      " [0.   0.   0.   1.  ]\n",
      " [0.   0.   0.   1.  ]\n",
      " [0.   0.   0.5  0.5 ]\n",
      " [1.   0.   0.   0.  ]\n",
      " [0.5  0.   0.   0.5 ]\n",
      " [0.25 0.25 0.25 0.25]\n",
      " [0.   0.   1.   0.  ]\n",
      " [1.   0.   0.   0.  ]\n",
      " [0.25 0.25 0.25 0.25]\n",
      " [0.   0.5  0.5  0.  ]\n",
      " [0.   0.   1.   0.  ]\n",
      " [0.5  0.5  0.   0.  ]\n",
      " [0.   1.   0.   0.  ]\n",
      " [0.   1.   0.   0.  ]\n",
      " [0.25 0.25 0.25 0.25]]\n"
     ]
    }
   ],
   "source": [
    "env=GRID_WORLD() \n",
    "pi = np.ones([env.number_states, env.number_actions])/ env.number_actions\n",
    "v,pi=policy_iteration(env,gamma = 1, theta = 0.00001)\n",
    "print(v.reshape(4,4))\n",
    "print(pi)"
   ]
  },
  {
   "cell_type": "code",
   "execution_count": null,
   "id": "87f60cb0",
   "metadata": {},
   "outputs": [],
   "source": []
  }
 ],
 "metadata": {
  "kernelspec": {
   "display_name": "Python 3 (ipykernel)",
   "language": "python",
   "name": "python3"
  },
  "language_info": {
   "codemirror_mode": {
    "name": "ipython",
    "version": 3
   },
   "file_extension": ".py",
   "mimetype": "text/x-python",
   "name": "python",
   "nbconvert_exporter": "python",
   "pygments_lexer": "ipython3",
   "version": "3.8.13"
  }
 },
 "nbformat": 4,
 "nbformat_minor": 5
}
